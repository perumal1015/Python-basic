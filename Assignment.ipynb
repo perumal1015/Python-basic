{
 "cells": [
  {
   "cell_type": "code",
   "execution_count": 1,
   "id": "22451f74-ae3a-49cd-9a70-019d68305b44",
   "metadata": {},
   "outputs": [
    {
     "name": "stdout",
     "output_type": "stream",
     "text": [
      "Hello, World!\n"
     ]
    }
   ],
   "source": [
    "print(\"Hello, World!\")\n"
   ]
  },
  {
   "cell_type": "code",
   "execution_count": 6,
   "id": "90dc9cd5-b542-408a-971c-bbf0c8bd058f",
   "metadata": {},
   "outputs": [
    {
     "name": "stdin",
     "output_type": "stream",
     "text": [
      "Enter your Name= Perumal\n",
      "Enter your Age: 21\n"
     ]
    },
    {
     "name": "stdout",
     "output_type": "stream",
     "text": [
      "Name=  Perumal \n",
      " Age=  21\n"
     ]
    }
   ],
   "source": [
    "Name=input(\"Enter your Name=\")\n",
    "age=int(input(\"Enter your Age:\"))\n",
    "print(\"Name= \",Name,\"\\n Age= \",age)"
   ]
  },
  {
   "cell_type": "code",
   "execution_count": 9,
   "id": "3953d242-6fdf-4523-9bc1-61fc20b834b9",
   "metadata": {},
   "outputs": [
    {
     "name": "stdout",
     "output_type": "stream",
     "text": [
      "python keywords:\n",
      "False\n",
      "None\n",
      "True\n",
      "and\n",
      "as\n",
      "assert\n",
      "async\n",
      "await\n",
      "break\n",
      "class\n",
      "continue\n",
      "def\n",
      "del\n",
      "elif\n",
      "else\n",
      "except\n",
      "finally\n",
      "for\n",
      "from\n",
      "global\n",
      "if\n",
      "import\n",
      "in\n",
      "is\n",
      "lambda\n",
      "nonlocal\n",
      "not\n",
      "or\n",
      "pass\n",
      "raise\n",
      "return\n",
      "try\n",
      "while\n",
      "with\n",
      "yield\n"
     ]
    }
   ],
   "source": [
    "import keyword\n",
    "print(\"python keywords:\")\n",
    "for d in keyword.kwlist:\n",
    "    print(d)"
   ]
  },
  {
   "cell_type": "code",
   "execution_count": 11,
   "id": "5197bc90-9641-4dda-8ce9-11600678e42a",
   "metadata": {},
   "outputs": [
    {
     "name": "stdin",
     "output_type": "stream",
     "text": [
      "Enter word: perumal\n"
     ]
    },
    {
     "name": "stdout",
     "output_type": "stream",
     "text": [
      "'perumal' is not a python keyword\n"
     ]
    }
   ],
   "source": [
    "import keyword\n",
    "word=input(\"Enter word:\")\n",
    "if keyword.iskeyword(word):\n",
    "    print(f\"'{word}' is a python keyword \")\n",
    "else:\n",
    "    print(f\"'{word}' is not a python keyword\")\n"
   ]
  },
  {
   "cell_type": "code",
   "execution_count": 13,
   "id": "3c294977-dd71-4fb1-ac35-6b03a3628a66",
   "metadata": {},
   "outputs": [
    {
     "name": "stdout",
     "output_type": "stream",
     "text": [
      "original list [10, 20, 30]\n",
      "modified list [10, 500, 30]\n",
      "original tuple (10, 20, 30)\n",
      "Error when modifing tuple 'tuple' object does not support item assignment\n"
     ]
    }
   ],
   "source": [
    "list=[10,20,30]\n",
    "print(\"original list\",list)\n",
    "list[1]=500\n",
    "print(\"modified list\",list)\n",
    "tuple=(10,20,30)\n",
    "print(\"original tuple\",tuple)\n",
    "try:\n",
    "    tuple[1]=300\n",
    "except TypeError as e:\n",
    "    print(\"Error when modifing tuple\",e)\n"
   ]
  },
  {
   "cell_type": "code",
   "execution_count": 14,
   "id": "bb0270ce-bb57-4a2a-8e58-ae5b6d1dd3ca",
   "metadata": {},
   "outputs": [
    {
     "name": "stdout",
     "output_type": "stream",
     "text": [
      "before function call 10\n",
      "before function call [1, 2, 3]\n",
      "abcd 20\n",
      "abcd [1, 2, 3, 100]\n",
      "after function call 10\n",
      "after function call [1, 2, 3, 100]\n"
     ]
    }
   ],
   "source": [
    "def modify(x,list):\n",
    "    x+=10\n",
    "    list.append(100)\n",
    "    print(\"abcd\",x)\n",
    "    print(\"abcd\",list)\n",
    "x=10\n",
    "list=[1,2,3]\n",
    "print(\"before function call\",x)\n",
    "print(\"before function call\",list)\n",
    "modify(x,list)\n",
    "print(\"after function call\",x)\n",
    "print(\"after function call\",list)"
   ]
  },
  {
   "cell_type": "code",
   "execution_count": 15,
   "id": "6f739531-a1aa-4c10-b724-de151e0bf1b1",
   "metadata": {},
   "outputs": [
    {
     "name": "stdin",
     "output_type": "stream",
     "text": [
      " 10\n",
      " 20\n"
     ]
    },
    {
     "name": "stdout",
     "output_type": "stream",
     "text": [
      "add 30.0\n",
      "sub -10.0\n",
      "mul 200.0\n",
      "div 0.5\n",
      "mod 10.0\n"
     ]
    }
   ],
   "source": [
    "num1=float(input())\n",
    "num2=float(input())\n",
    "print(\"add\",num1+num2)\n",
    "print(\"sub\",num1-num2)\n",
    "print(\"mul\",num1*num2)\n",
    "if num2 != 0:\n",
    "    print(\"div\",num1/num2)\n",
    "    print(\"mod\",num1%num2)\n",
    "else:\n",
    "    print(\"not possible\")\n"
   ]
  },
  {
   "cell_type": "code",
   "execution_count": 17,
   "id": "081c1978-4d2a-4772-8da9-abccde2e730e",
   "metadata": {},
   "outputs": [
    {
     "name": "stdin",
     "output_type": "stream",
     "text": [
      " 10\n",
      " 20\n"
     ]
    },
    {
     "name": "stdout",
     "output_type": "stream",
     "text": [
      "\n",
      "\n",
      "True\n"
     ]
    }
   ],
   "source": [
    "num1=int(input())\n",
    "mum2=int(input())\n",
    "if num1>0 and num2>0:\n",
    "    print()\n",
    "else:\n",
    "    print()\n",
    "if num1>0 or num2>0:\n",
    "    print()\n",
    "else:\n",
    "    print()\n",
    "print(not(num1>num2))\n",
    "         "
   ]
  },
  {
   "cell_type": "code",
   "execution_count": 5,
   "id": "432d8dbb-5838-440d-8704-55f801fa8907",
   "metadata": {},
   "outputs": [
    {
     "name": "stdin",
     "output_type": "stream",
     "text": [
      " peruumal\n"
     ]
    },
    {
     "name": "stdout",
     "output_type": "stream",
     "text": [
      "cannot covert into integer\n",
      "cannot convert into float integer\n",
      "True\n"
     ]
    }
   ],
   "source": [
    "user_input=input()\n",
    "try:\n",
    "    int_value=int(user_input)\n",
    "    print(int_value)\n",
    "except ValueError:\n",
    "    print(\"cannot covert into integer\")\n",
    "try:\n",
    "    float_value=float(user_input)\n",
    "    print(float_value)\n",
    "except ValueError:\n",
    "    print(\"cannot convert into float integer\")\n",
    "bool_value=user_input.lower() not in['0','false','']\n",
    "print(bool_value)\n"
   ]
  },
  {
   "cell_type": "code",
   "execution_count": 8,
   "id": "6639d4a3-44f6-42b9-8e1b-ae86847d4fd5",
   "metadata": {},
   "outputs": [
    {
     "name": "stdout",
     "output_type": "stream",
     "text": [
      "['12', '34', '25', '37.25', 'True', 'False']\n",
      "[12, 34, 25, 37, 'invalid', 'invalid']\n",
      "[12.0, 34.0, 25.0, 37.25, 'invalid', 'invalid']\n",
      "[True, True, True, True, True, False]\n"
     ]
    }
   ],
   "source": [
    "str_list=['12','34','25','37.25','True','False']\n",
    "print(str_list)\n",
    "int_list=[]\n",
    "for item in str_list:\n",
    "    try:\n",
    "        int_list.append(int(float(item)))\n",
    "    except ValueError:\n",
    "        int_list.append(\"invalid\")\n",
    "print(int_list)        \n",
    "float_list=[]\n",
    "for item in str_list:\n",
    "    try:\n",
    "        float_list.append(float(item))\n",
    "    except ValueError:\n",
    "        float_list.append(\"invalid\")\n",
    "print(float_list)\n",
    "bool_list=[item.lower() not in ['false','0','','none'] for item in str_list]\n",
    "print(bool_list)\n",
    "        "
   ]
  },
  {
   "cell_type": "code",
   "execution_count": 9,
   "id": "067f7475-dca1-497a-af04-60d61791c034",
   "metadata": {},
   "outputs": [
    {
     "name": "stdin",
     "output_type": "stream",
     "text": [
      " 90\n"
     ]
    },
    {
     "name": "stdout",
     "output_type": "stream",
     "text": [
      "the number greater then zero\n"
     ]
    }
   ],
   "source": [
    "num=float(input())\n",
    "if num>0:\n",
    "    print(\"positive\")\n",
    "elif num<0:\n",
    "    print(\"negative\")\n",
    "else:\n",
    "    print(\"the number is zero\")\n",
    "    "
   ]
  },
  {
   "cell_type": "code",
   "execution_count": 10,
   "id": "2a2ce431-4cbe-42f4-b7e9-a9772d800cb4",
   "metadata": {},
   "outputs": [
    {
     "name": "stdout",
     "output_type": "stream",
     "text": [
      "1\n",
      "2\n",
      "3\n",
      "4\n",
      "5\n",
      "6\n",
      "7\n",
      "8\n",
      "9\n",
      "10\n"
     ]
    }
   ],
   "source": [
    "for i in range(1,11):\n",
    "    print(i)"
   ]
  },
  {
   "cell_type": "code",
   "execution_count": 12,
   "id": "677151dc-3733-412c-afcc-2112b5d7df6b",
   "metadata": {},
   "outputs": [
    {
     "name": "stdout",
     "output_type": "stream",
     "text": [
      "650\n"
     ]
    }
   ],
   "source": [
    "sum=0\n",
    "for i in range(1,51):\n",
    "    if i%2==0:\n",
    "        sum+=i\n",
    "print(sum)"
   ]
  },
  {
   "cell_type": "code",
   "execution_count": 14,
   "id": "140babd5-2297-44c2-8a0d-7ccf2894c714",
   "metadata": {},
   "outputs": [
    {
     "name": "stdin",
     "output_type": "stream",
     "text": [
      " deepasree\n"
     ]
    },
    {
     "name": "stdout",
     "output_type": "stream",
     "text": [
      "eersapeed\n"
     ]
    }
   ],
   "source": [
    "text=input()\n",
    "rev_str=\"\"\n",
    "index=len(text)-1\n",
    "while index>=0:\n",
    "    rev_str+=text[index]\n",
    "    index-=1\n",
    "print(rev_str)    "
   ]
  },
  {
   "cell_type": "code",
   "execution_count": 16,
   "id": "9a4781d7-da1f-4aed-8945-f78c64b8beae",
   "metadata": {},
   "outputs": [
    {
     "name": "stdin",
     "output_type": "stream",
     "text": [
      " 5\n"
     ]
    },
    {
     "name": "stdout",
     "output_type": "stream",
     "text": [
      "120\n"
     ]
    }
   ],
   "source": [
    "num=int(input())\n",
    "fact=1\n",
    "i=1\n",
    "while i<=num:\n",
    "    fact*=i\n",
    "    i+=1\n",
    "print(fact)    "
   ]
  },
  {
   "cell_type": "code",
   "execution_count": null,
   "id": "7085617b-1e87-4f5c-83f3-b0ee801511d9",
   "metadata": {},
   "outputs": [],
   "source": []
  }
 ],
 "metadata": {
  "kernelspec": {
   "display_name": "Python 3 (ipykernel)",
   "language": "python",
   "name": "python3"
  },
  "language_info": {
   "codemirror_mode": {
    "name": "ipython",
    "version": 3
   },
   "file_extension": ".py",
   "mimetype": "text/x-python",
   "name": "python",
   "nbconvert_exporter": "python",
   "pygments_lexer": "ipython3",
   "version": "3.13.5"
  }
 },
 "nbformat": 4,
 "nbformat_minor": 5
}
